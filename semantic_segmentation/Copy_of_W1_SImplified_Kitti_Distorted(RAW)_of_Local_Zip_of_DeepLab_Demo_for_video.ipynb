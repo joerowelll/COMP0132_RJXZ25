{
  "cells": [
    {
      "cell_type": "markdown",
      "metadata": {
        "id": "view-in-github",
        "colab_type": "text"
      },
      "source": [
        "<a href=\"https://colab.research.google.com/github/joerowelll/COMP0132/blob/main/Copy_of_W1_SImplified_Kitti_Distorted(RAW)_of_Local_Zip_of_DeepLab_Demo_for_video.ipynb\" target=\"_parent\"><img src=\"https://colab.research.google.com/assets/colab-badge.svg\" alt=\"Open In Colab\"/></a>"
      ]
    },
    {
      "cell_type": "markdown",
      "metadata": {
        "id": "KFPcBuVFw61h"
      },
      "source": [
        "# Overview\n",
        "\n",
        "This colab demonstrates the steps to use the DeepLab model to perform semantic segmentation on a sample input image. Expected outputs are semantic labels overlayed on the sample image.\n",
        "\n",
        "### About DeepLab\n",
        "The models used in this colab perform semantic segmentation. Semantic segmentation models focus on assigning semantic labels, such as sky, person, or car, to multiple objects and stuff in a single image.\n",
        "\n",
        "### Recommended file structure\n",
        "MyDrive \\\\\n",
        "├── _brighton \\\\\n",
        "| &nbsp;├── brightonImages.zip \\\\\n",
        "│   ├── images \\\\\n",
        "│       ├── out0.png  \\\\\n",
        "│       └── header.html \\\\\n",
        "│   ├── segmentation \\\\\n",
        "│   ├── segmentation_video \\\\\n",
        "│   ├── sparse \\\\\n",
        "\n",
        "│   ├── colmap_output \\\\\n",
        "│       ├── out0.png  \\\\\n",
        "│       └── header.html \\\\\n",
        "│   └── database.db \\\\\n"
      ]
    },
    {
      "cell_type": "code",
      "execution_count": 1,
      "metadata": {
        "id": "L8vXOY8uVCQu"
      },
      "outputs": [],
      "source": [
        "\n",
        "dataset=\"brighton\" # @param ['brighton','louvre']\n",
        "\n",
        "#zipfile=\"louvreImages\" # @param ['brightonImages','louvreImages']\n",
        "zipfile=dataset + \"Images\""
      ]
    },
    {
      "cell_type": "markdown",
      "metadata": {
        "id": "7cRiapZ1P3wy"
      },
      "source": [
        "## Import Libraries"
      ]
    },
    {
      "cell_type": "code",
      "execution_count": 2,
      "metadata": {
        "colab": {
          "base_uri": "https://localhost:8080/"
        },
        "id": "K9QoauyNC_Ph",
        "outputId": "c5136a97-63ec-4411-b949-8fc85d2be311"
      },
      "outputs": [
        {
          "output_type": "stream",
          "name": "stdout",
          "text": [
            "Tue Jul 12 12:35:23 2022       \n",
            "+-----------------------------------------------------------------------------+\n",
            "| NVIDIA-SMI 460.32.03    Driver Version: 460.32.03    CUDA Version: 11.2     |\n",
            "|-------------------------------+----------------------+----------------------+\n",
            "| GPU  Name        Persistence-M| Bus-Id        Disp.A | Volatile Uncorr. ECC |\n",
            "| Fan  Temp  Perf  Pwr:Usage/Cap|         Memory-Usage | GPU-Util  Compute M. |\n",
            "|                               |                      |               MIG M. |\n",
            "|===============================+======================+======================|\n",
            "|   0  Tesla P100-PCIE...  Off  | 00000000:00:04.0 Off |                    0 |\n",
            "| N/A   38C    P0    26W / 250W |      0MiB / 16280MiB |      0%      Default |\n",
            "|                               |                      |                  N/A |\n",
            "+-------------------------------+----------------------+----------------------+\n",
            "                                                                               \n",
            "+-----------------------------------------------------------------------------+\n",
            "| Processes:                                                                  |\n",
            "|  GPU   GI   CI        PID   Type   Process name                  GPU Memory |\n",
            "|        ID   ID                                                   Usage      |\n",
            "|=============================================================================|\n",
            "|  No running processes found                                                 |\n",
            "+-----------------------------------------------------------------------------+\n"
          ]
        }
      ],
      "source": [
        "gpu_info = !nvidia-smi\n",
        "gpu_info = '\\n'.join(gpu_info)\n",
        "if gpu_info.find('failed') >= 0:\n",
        "  print('Not connected to a GPU')\n",
        "else:\n",
        "  print(gpu_info)"
      ]
    },
    {
      "cell_type": "code",
      "execution_count": 3,
      "metadata": {
        "cellView": "code",
        "colab": {
          "base_uri": "https://localhost:8080/"
        },
        "id": "kAbdmRmvq0Je",
        "outputId": "74bc4d83-c750-4060-a932-c1fce8cd052b"
      },
      "outputs": [
        {
          "output_type": "stream",
          "name": "stdout",
          "text": [
            "WARNING: Tensorflow 1 is deprecated, and support will be removed on August 1, 2022.\n",
            "After that, `%tensorflow_version 1.x` will throw an error.\n",
            "\n",
            "Your notebook should be updated to use Tensorflow 2.\n",
            "See the guide at https://www.tensorflow.org/guide/migrate#migrate-from-tensorflow-1x-to-tensorflow-2.\n",
            "\n",
            "TensorFlow 1.x selected.\n",
            "1.15.2\n"
          ]
        }
      ],
      "source": [
        "import os\n",
        "from io import BytesIO\n",
        "import tarfile\n",
        "import tempfile\n",
        "from six.moves import urllib\n",
        "\n",
        "from matplotlib import gridspec\n",
        "from matplotlib import pyplot as plt\n",
        "import numpy as np\n",
        "from PIL import Image\n",
        "%tensorflow_version 1.x\n",
        "\n",
        "import tensorflow as tf\n",
        "# config = tf.compat.v1.ConfigProto()\n",
        "# config.gpu_options.allow_growth = True\n",
        "# sess = tf.compat.v1.Session(config=config)\n",
        "# sess.as_default()\n",
        "\n",
        "print(tf.__version__)"
      ]
    },
    {
      "cell_type": "markdown",
      "metadata": {
        "id": "p47cYGGOQE1W"
      },
      "source": [
        "## Import helper methods\n",
        "These methods help us perform the following tasks:\n",
        "* Load the latest version of the pretrained DeepLab model\n",
        "* Load the colormap from the PASCAL VOC dataset or CitySCapes dataset\n",
        "* Adds colors to various labels, such as \"pink\" for people, \"green\" for bicycle and more\n",
        "* Visualize an image, and add an overlay of colors on various regions"
      ]
    },
    {
      "cell_type": "code",
      "execution_count": 4,
      "metadata": {
        "cellView": "code",
        "id": "vN0kU6NJ1Ye5"
      },
      "outputs": [],
      "source": [
        "LABEL_NAMES1 = 'CityScapes' # @param['PascalVOC','CityScapes', 'ADE20K']\n",
        "\n",
        "class DeepLabModel(object):\n",
        "  \"\"\"Class to load deeplab model and run inference.\"\"\"\n",
        "\n",
        "  INPUT_TENSOR_NAME = 'ImageTensor:0'\n",
        "  OUTPUT_TENSOR_NAME = 'SemanticPredictions:0'\n",
        "  # INPUT_SIZE = 513\n",
        "  # INPUT_SIZE = 1025\n",
        "  # INPUT_SIZE = 1242\n",
        "  INPUT_SIZE = 1226\n",
        "  FROZEN_GRAPH_NAME = 'frozen_inference_graph'\n",
        "\n",
        "  def __init__(self, tarball_path):\n",
        "    \"\"\"Creates and loads pretrained deeplab model.\"\"\"\n",
        "    self.graph = tf.Graph()\n",
        "\n",
        "    graph_def = None\n",
        "    # Extract frozen graph from tar archive.\n",
        "    tar_file = tarfile.open(tarball_path)\n",
        "    for tar_info in tar_file.getmembers():\n",
        "      if self.FROZEN_GRAPH_NAME in os.path.basename(tar_info.name):\n",
        "        file_handle = tar_file.extractfile(tar_info)\n",
        "        graph_def = tf.GraphDef.FromString(file_handle.read())\n",
        "        break\n",
        "\n",
        "    tar_file.close()\n",
        "\n",
        "    if graph_def is None:\n",
        "      raise RuntimeError('Cannot find inference graph in tar archive.')\n",
        "\n",
        "    with self.graph.as_default():\n",
        "      tf.import_graph_def(graph_def, name='')\n",
        "\n",
        "    self.sess = tf.Session(graph=self.graph)\n",
        "\n",
        "  def run(self, image):\n",
        "    \"\"\"Runs inference on a single image.\n",
        "\n",
        "    Args:\n",
        "      image: A PIL.Image object, raw input image.\n",
        "\n",
        "    Returns:\n",
        "      resized_image: RGB image resized from original input image.\n",
        "      seg_map: Segmentation map of `resized_image`.\n",
        "    \"\"\"\n",
        "    width, height = image.size\n",
        "    print (image.size)\n",
        "    resize_ratio = 1.0 * self.INPUT_SIZE / max(width, height)\n",
        "    print (resize_ratio)\n",
        "    target_size = (int(resize_ratio * width), int(resize_ratio * height))\n",
        "    resized_image = image.convert('RGB').resize(target_size, Image.ANTIALIAS)\n",
        "    batch_seg_map = self.sess.run(\n",
        "        self.OUTPUT_TENSOR_NAME,\n",
        "        feed_dict={self.INPUT_TENSOR_NAME: [np.asarray(resized_image)]})\n",
        "    seg_map = batch_seg_map[0]\n",
        "    return resized_image, seg_map\n",
        "\n",
        "\n",
        "def create_pascal_label_colormap():\n",
        "  \"\"\"Creates a label colormap used in PASCAL VOC segmentation benchmark.\n",
        "\n",
        "  Returns:\n",
        "    A Colormap for visualizing segmentation results.\n",
        "  \"\"\"\n",
        "  colormap = np.zeros((256, 3), dtype=int)\n",
        "  ind = np.arange(256, dtype=int)\n",
        "\n",
        "  for shift in reversed(range(8)):\n",
        "    for channel in range(3):\n",
        "      colormap[:, channel] |= ((ind >> channel) & 1) << shift\n",
        "    ind >>= 3\n",
        "\n",
        "  return colormap\n",
        "\n",
        "def create_cityscapes_label_colormap():\n",
        "  \"\"\"Creates a label colormap used in CITYSCAPES segmentation benchmark.\n",
        "  Returns:\n",
        "    A colormap for visualizing segmentation results.\n",
        "  \"\"\"\n",
        "  colormap = np.zeros((256, 3), dtype=np.uint8)\n",
        "  colormap[0] = [128, 64, 128]\n",
        "  colormap[1] = [244, 35, 232]\n",
        "  colormap[2] = [70, 70, 70]\n",
        "  colormap[3] = [102, 102, 156]\n",
        "  colormap[4] = [190, 153, 153]\n",
        "  colormap[5] = [153, 153, 153]\n",
        "  colormap[6] = [250, 170, 30]\n",
        "  colormap[7] = [220, 220, 0]\n",
        "  colormap[8] = [107, 142, 35]\n",
        "  colormap[9] = [152, 251, 152]\n",
        "  colormap[10] = [70, 130, 180]\n",
        "  colormap[11] = [220, 20, 60]\n",
        "  colormap[12] = [255, 0, 0]\n",
        "  colormap[13] = [0, 0, 142]\n",
        "  colormap[14] = [0, 0, 70]\n",
        "  colormap[15] = [0, 60, 100]\n",
        "  colormap[16] = [0, 80, 100]\n",
        "  colormap[17] = [0, 0, 230]\n",
        "  colormap[18] = [119, 11, 32]\n",
        "  return colormap\n",
        "\n",
        "\n",
        "\n",
        "def label_to_color_image(label):\n",
        "  \"\"\"Adds color defined by the dataset colormap to the label.\n",
        "\n",
        "  Args:\n",
        "    label: A 2D array with integer type, storing the segmentation label.\n",
        "\n",
        "  Returns:\n",
        "    result: A 2D array with floating type. The element of the array\n",
        "      is the color indexed by the corresponding element in the input label\n",
        "      to the PASCAL color map.\n",
        "\n",
        "  Raises:\n",
        "    ValueError: If label is not of rank 2 or its value is larger than color\n",
        "      map maximum entry.\n",
        "  \"\"\"\n",
        "  if label.ndim != 2:\n",
        "    raise ValueError('Expect 2-D input label')\n",
        "  # Change this to relevant pretrained dataset for optimal visualisation\n",
        "  ############colormap = create_pascal_label_colormap()\n",
        "  colormap = create_cityscapes_label_colormap()\n",
        "\n",
        "  if np.max(label) >= len(colormap):\n",
        "    raise ValueError('label value too large.')\n",
        "\n",
        "  return colormap[label]\n",
        "\n",
        "\n",
        "def vis_segmentation(image, seg_map, image_count):\n",
        "  \"\"\"Visualizes input image, segmentation map and overlay view.\"\"\"\n",
        "  plt.figure(figsize=(15, 5))\n",
        "  grid_spec = gridspec.GridSpec(1, 4, width_ratios=[6, 6, 6, 1])\n",
        "\n",
        "  plt.subplot(grid_spec[0])\n",
        "  plt.imshow(image)\n",
        "  plt.axis('off')\n",
        "  plt.title('Input Image')\n",
        "\n",
        "  plt.subplot(grid_spec[1])\n",
        "  seg_image = label_to_color_image(seg_map).astype(np.uint8)\n",
        "  plt.imshow(seg_image)\n",
        "  plt.axis('off')\n",
        "  plt.title('Segmentation Map')\n",
        "\n",
        "  plt.subplot(grid_spec[2])\n",
        "  plt.imshow(image)\n",
        "  plt.imshow(seg_image, alpha=0.7)\n",
        "  plt.axis('off')\n",
        "  plt.title('Segmentation Overlay')\n",
        "\n",
        "  unique_labels = np.unique(seg_map)\n",
        "  ax = plt.subplot(grid_spec[3])\n",
        "  plt.imshow(\n",
        "      FULL_COLOR_MAP[unique_labels].astype(np.uint8), interpolation='nearest')\n",
        "  ax.yaxis.tick_right()\n",
        "  plt.yticks(range(len(unique_labels)), LABEL_NAMES[unique_labels])\n",
        "  plt.xticks([], [])\n",
        "  ax.tick_params(width=0.0)\n",
        "  plt.grid('off')\n",
        "  \n",
        "\n",
        "  \n",
        "  # Make this save as zero padded frame number, check ffmpeg requirements.\n",
        "  \n",
        "  #plt.savefig(\"/content/drive/MyDrive/COMP0132/\" + dataset + \"/segmentation_video/\" + \"semantic_segmentation\" + (str(1102-image_count)).zfill(5) + \".png\", dpi='figure', format= \"PNG\")\n",
        "  plt.savefig(\"/content/drive/MyDrive/COMP0132/\" + dataset + \"/segmentation_video/\" + \"semantic_segmentation\" + (str(image_counter)).zfill(5) + \".png\", dpi='figure', format= \"PNG\")\n",
        "  plt.show()\n",
        "  \n",
        "  #Pascal VOC\n",
        "# LABEL_NAMES = np.asarray([\n",
        "#     'background', 'aeroplane', 'bicycle', 'bird', 'boat', 'bottle', 'bus',\n",
        "#     'car', 'cat', 'chair', 'cow', 'diningtable', 'dog', 'horse', 'motorbike',\n",
        "#     'person', 'pottedplant', 'sheep', 'sofa', 'train', 'tv'\n",
        "# ])\n",
        "\n",
        "#Cityscapes\n",
        "LABEL_NAMES = np.asarray([\n",
        "    'unlabeled', 'ego vehicle', 'out of roi', 'static', 'dynamic', 'ground', 'road',\n",
        "    'sidewalk', 'parking', 'rail track', 'building', 'wall', 'fence', 'guard rail', 'bridge',\n",
        "    'tunnel', 'pole', 'polegroup', 'traffic light', 'traffic sign', 'vegetation', 'terrain',\n",
        "     'sky', 'person', 'rider', 'car', 'truck', 'bus', 'caravan', 'trailer', 'train', \n",
        "     'motorcycle', 'bicycle', 'license plate'\n",
        "])\n",
        "#ADE20K\n",
        "# LABEL_NAMES = np.asarray([\n",
        "#     'road', 'sidewalk', 'building', 'wall', 'fence', 'pole', 'traffic light',\n",
        "#     'traffic sign', 'vegetation',  'terrain',\n",
        "#      'sky', 'person', 'rider', 'car', 'truck', 'bus', 'train', \n",
        "#      'motorcycle', 'bicycle'\n",
        "# ])\n",
        "\n",
        "FULL_LABEL_MAP = np.arange(len(LABEL_NAMES)).reshape(len(LABEL_NAMES), 1)\n",
        "FULL_COLOR_MAP = label_to_color_image(FULL_LABEL_MAP)"
      ]
    },
    {
      "cell_type": "markdown",
      "metadata": {
        "id": "nGcZzNkASG9A"
      },
      "source": [
        "## Select a pretrained model\n",
        "We have trained the DeepLab model using various backbone networks. Select one from the MODEL_NAME list."
      ]
    },
    {
      "cell_type": "code",
      "execution_count": 5,
      "metadata": {
        "colab": {
          "base_uri": "https://localhost:8080/"
        },
        "id": "c4oXKmnjw6i_",
        "outputId": "0982f670-fd0a-41c8-bb42-b45bd8493790"
      },
      "outputs": [
        {
          "output_type": "stream",
          "name": "stdout",
          "text": [
            "downloading model, this might take a while...\n",
            "download completed! loading DeepLab model...\n",
            "model loaded successfully!\n"
          ]
        }
      ],
      "source": [
        "MODEL_NAME = 'deeplabv3_cityscapes_train'  # @param ['xception65_ade20k_train','mobilenetv2_coco_voctrainaug', 'mobilenetv2_coco_voctrainval', 'xception_coco_voctrainaug', 'xception_coco_voctrainval','deeplabv3_cityscapes_train']\n",
        "\n",
        "_DOWNLOAD_URL_PREFIX = 'http://download.tensorflow.org/models/'\n",
        "_MODEL_URLS = {\n",
        "    'mobilenetv2_coco_voctrainaug':\n",
        "        'deeplabv3_mnv2_pascal_train_aug_2018_01_29.tar.gz',\n",
        "    'mobilenetv2_coco_voctrainval':\n",
        "        'deeplabv3_mnv2_pascal_trainval_2018_01_29.tar.gz',\n",
        "    'xception_coco_voctrainaug':\n",
        "        'deeplabv3_pascal_train_aug_2018_01_04.tar.gz',\n",
        "    'xception_coco_voctrainval':\n",
        "        'deeplabv3_pascal_trainval_2018_01_04.tar.gz',\n",
        "        'deeplabv3_cityscapes_train':\n",
        "        'deeplabv3_cityscapes_train_2018_02_06.tar.gz',\n",
        "         'xception65_ade20k_train':\n",
        "        'deeplabv3_xception_ade20k_train_2018_05_29.tar.gz'\n",
        "}\n",
        "_TARBALL_NAME = 'deeplab_model.tar.gz'\n",
        "model_dir = tempfile.mkdtemp()\n",
        "tf.gfile.MakeDirs(model_dir)\n",
        "\n",
        "download_path = os.path.join(model_dir, _TARBALL_NAME)\n",
        "print('downloading model, this might take a while...')\n",
        "urllib.request.urlretrieve(_DOWNLOAD_URL_PREFIX + _MODEL_URLS[MODEL_NAME],\n",
        "                   download_path)\n",
        "print('download completed! loading DeepLab model...')\n",
        "\n",
        "MODEL = DeepLabModel(download_path)\n",
        "print('model loaded successfully!')"
      ]
    },
    {
      "cell_type": "markdown",
      "metadata": {
        "id": "mnjASd5iI0NY"
      },
      "source": [
        "#Unzip dataset from google drive"
      ]
    },
    {
      "cell_type": "code",
      "execution_count": 6,
      "metadata": {
        "colab": {
          "base_uri": "https://localhost:8080/",
          "height": 381
        },
        "id": "h4AxKx60I0CB",
        "outputId": "b1d846df-1786-471e-8f8c-0320162cf074"
      },
      "outputs": [
        {
          "output_type": "error",
          "ename": "KeyboardInterrupt",
          "evalue": "ignored",
          "traceback": [
            "\u001b[0;31m---------------------------------------------------------------------------\u001b[0m",
            "\u001b[0;31mKeyboardInterrupt\u001b[0m                         Traceback (most recent call last)",
            "\u001b[0;32m<ipython-input-6-6d707be0d91f>\u001b[0m in \u001b[0;36m<module>\u001b[0;34m()\u001b[0m\n\u001b[1;32m      1\u001b[0m \u001b[0;32mimport\u001b[0m \u001b[0mzipfile\u001b[0m\u001b[0;34m\u001b[0m\u001b[0;34m\u001b[0m\u001b[0m\n\u001b[1;32m      2\u001b[0m \u001b[0;32mfrom\u001b[0m \u001b[0mgoogle\u001b[0m\u001b[0;34m.\u001b[0m\u001b[0mcolab\u001b[0m \u001b[0;32mimport\u001b[0m \u001b[0mdrive\u001b[0m\u001b[0;34m\u001b[0m\u001b[0;34m\u001b[0m\u001b[0m\n\u001b[0;32m----> 3\u001b[0;31m \u001b[0mdrive\u001b[0m\u001b[0;34m.\u001b[0m\u001b[0mmount\u001b[0m\u001b[0;34m(\u001b[0m\u001b[0;34m\"/content/drive/\"\u001b[0m\u001b[0;34m,\u001b[0m \u001b[0mforce_remount\u001b[0m\u001b[0;34m=\u001b[0m\u001b[0;32mTrue\u001b[0m\u001b[0;34m)\u001b[0m\u001b[0;34m\u001b[0m\u001b[0;34m\u001b[0m\u001b[0m\n\u001b[0m\u001b[1;32m      4\u001b[0m \u001b[0;34m\u001b[0m\u001b[0m\n\u001b[1;32m      5\u001b[0m \u001b[0;31m#!cp  /content/drive/My\\ Drive/kitti/\"$dataset\".zip /tmp\u001b[0m\u001b[0;34m\u001b[0m\u001b[0;34m\u001b[0m\u001b[0;34m\u001b[0m\u001b[0m\n",
            "\u001b[0;32m/usr/local/lib/python3.7/dist-packages/google/colab/drive.py\u001b[0m in \u001b[0;36mmount\u001b[0;34m(mountpoint, force_remount, timeout_ms)\u001b[0m\n\u001b[1;32m    107\u001b[0m       \u001b[0mforce_remount\u001b[0m\u001b[0;34m=\u001b[0m\u001b[0mforce_remount\u001b[0m\u001b[0;34m,\u001b[0m\u001b[0;34m\u001b[0m\u001b[0;34m\u001b[0m\u001b[0m\n\u001b[1;32m    108\u001b[0m       \u001b[0mtimeout_ms\u001b[0m\u001b[0;34m=\u001b[0m\u001b[0mtimeout_ms\u001b[0m\u001b[0;34m,\u001b[0m\u001b[0;34m\u001b[0m\u001b[0;34m\u001b[0m\u001b[0m\n\u001b[0;32m--> 109\u001b[0;31m       ephemeral=True)\n\u001b[0m\u001b[1;32m    110\u001b[0m \u001b[0;34m\u001b[0m\u001b[0m\n\u001b[1;32m    111\u001b[0m \u001b[0;34m\u001b[0m\u001b[0m\n",
            "\u001b[0;32m/usr/local/lib/python3.7/dist-packages/google/colab/drive.py\u001b[0m in \u001b[0;36m_mount\u001b[0;34m(mountpoint, force_remount, timeout_ms, ephemeral)\u001b[0m\n\u001b[1;32m    243\u001b[0m         \u001b[0mproblem_and_stopped\u001b[0m\u001b[0;34m,\u001b[0m\u001b[0;34m\u001b[0m\u001b[0;34m\u001b[0m\u001b[0m\n\u001b[1;32m    244\u001b[0m         \u001b[0mdrive_exited\u001b[0m\u001b[0;34m,\u001b[0m\u001b[0;34m\u001b[0m\u001b[0;34m\u001b[0m\u001b[0m\n\u001b[0;32m--> 245\u001b[0;31m         \u001b[0mdomain_disabled_drivefs\u001b[0m\u001b[0;34m,\u001b[0m\u001b[0;34m\u001b[0m\u001b[0;34m\u001b[0m\u001b[0m\n\u001b[0m\u001b[1;32m    246\u001b[0m     ])\n\u001b[1;32m    247\u001b[0m     \u001b[0;32mif\u001b[0m \u001b[0mcase\u001b[0m \u001b[0;34m==\u001b[0m \u001b[0;36m0\u001b[0m\u001b[0;34m:\u001b[0m\u001b[0;34m\u001b[0m\u001b[0;34m\u001b[0m\u001b[0m\n",
            "\u001b[0;32m/usr/local/lib/python3.7/dist-packages/pexpect/spawnbase.py\u001b[0m in \u001b[0;36mexpect\u001b[0;34m(self, pattern, timeout, searchwindowsize, async_, **kw)\u001b[0m\n\u001b[1;32m    342\u001b[0m         \u001b[0mcompiled_pattern_list\u001b[0m \u001b[0;34m=\u001b[0m \u001b[0mself\u001b[0m\u001b[0;34m.\u001b[0m\u001b[0mcompile_pattern_list\u001b[0m\u001b[0;34m(\u001b[0m\u001b[0mpattern\u001b[0m\u001b[0;34m)\u001b[0m\u001b[0;34m\u001b[0m\u001b[0;34m\u001b[0m\u001b[0m\n\u001b[1;32m    343\u001b[0m         return self.expect_list(compiled_pattern_list,\n\u001b[0;32m--> 344\u001b[0;31m                 timeout, searchwindowsize, async_)\n\u001b[0m\u001b[1;32m    345\u001b[0m \u001b[0;34m\u001b[0m\u001b[0m\n\u001b[1;32m    346\u001b[0m     def expect_list(self, pattern_list, timeout=-1, searchwindowsize=-1,\n",
            "\u001b[0;32m/usr/local/lib/python3.7/dist-packages/pexpect/spawnbase.py\u001b[0m in \u001b[0;36mexpect_list\u001b[0;34m(self, pattern_list, timeout, searchwindowsize, async_, **kw)\u001b[0m\n\u001b[1;32m    370\u001b[0m             \u001b[0;32mreturn\u001b[0m \u001b[0mexpect_async\u001b[0m\u001b[0;34m(\u001b[0m\u001b[0mexp\u001b[0m\u001b[0;34m,\u001b[0m \u001b[0mtimeout\u001b[0m\u001b[0;34m)\u001b[0m\u001b[0;34m\u001b[0m\u001b[0;34m\u001b[0m\u001b[0m\n\u001b[1;32m    371\u001b[0m         \u001b[0;32melse\u001b[0m\u001b[0;34m:\u001b[0m\u001b[0;34m\u001b[0m\u001b[0;34m\u001b[0m\u001b[0m\n\u001b[0;32m--> 372\u001b[0;31m             \u001b[0;32mreturn\u001b[0m \u001b[0mexp\u001b[0m\u001b[0;34m.\u001b[0m\u001b[0mexpect_loop\u001b[0m\u001b[0;34m(\u001b[0m\u001b[0mtimeout\u001b[0m\u001b[0;34m)\u001b[0m\u001b[0;34m\u001b[0m\u001b[0;34m\u001b[0m\u001b[0m\n\u001b[0m\u001b[1;32m    373\u001b[0m \u001b[0;34m\u001b[0m\u001b[0m\n\u001b[1;32m    374\u001b[0m     def expect_exact(self, pattern_list, timeout=-1, searchwindowsize=-1,\n",
            "\u001b[0;32m/usr/local/lib/python3.7/dist-packages/pexpect/expect.py\u001b[0m in \u001b[0;36mexpect_loop\u001b[0;34m(self, timeout)\u001b[0m\n\u001b[1;32m    169\u001b[0m                 \u001b[0mincoming\u001b[0m \u001b[0;34m=\u001b[0m \u001b[0mspawn\u001b[0m\u001b[0;34m.\u001b[0m\u001b[0mread_nonblocking\u001b[0m\u001b[0;34m(\u001b[0m\u001b[0mspawn\u001b[0m\u001b[0;34m.\u001b[0m\u001b[0mmaxread\u001b[0m\u001b[0;34m,\u001b[0m \u001b[0mtimeout\u001b[0m\u001b[0;34m)\u001b[0m\u001b[0;34m\u001b[0m\u001b[0;34m\u001b[0m\u001b[0m\n\u001b[1;32m    170\u001b[0m                 \u001b[0;32mif\u001b[0m \u001b[0mself\u001b[0m\u001b[0;34m.\u001b[0m\u001b[0mspawn\u001b[0m\u001b[0;34m.\u001b[0m\u001b[0mdelayafterread\u001b[0m \u001b[0;32mis\u001b[0m \u001b[0;32mnot\u001b[0m \u001b[0;32mNone\u001b[0m\u001b[0;34m:\u001b[0m\u001b[0;34m\u001b[0m\u001b[0;34m\u001b[0m\u001b[0m\n\u001b[0;32m--> 171\u001b[0;31m                     \u001b[0mtime\u001b[0m\u001b[0;34m.\u001b[0m\u001b[0msleep\u001b[0m\u001b[0;34m(\u001b[0m\u001b[0mself\u001b[0m\u001b[0;34m.\u001b[0m\u001b[0mspawn\u001b[0m\u001b[0;34m.\u001b[0m\u001b[0mdelayafterread\u001b[0m\u001b[0;34m)\u001b[0m\u001b[0;34m\u001b[0m\u001b[0;34m\u001b[0m\u001b[0m\n\u001b[0m\u001b[1;32m    172\u001b[0m                 \u001b[0midx\u001b[0m \u001b[0;34m=\u001b[0m \u001b[0mself\u001b[0m\u001b[0;34m.\u001b[0m\u001b[0mnew_data\u001b[0m\u001b[0;34m(\u001b[0m\u001b[0mincoming\u001b[0m\u001b[0;34m)\u001b[0m\u001b[0;34m\u001b[0m\u001b[0;34m\u001b[0m\u001b[0m\n\u001b[1;32m    173\u001b[0m                 \u001b[0;31m# Keep reading until exception or return.\u001b[0m\u001b[0;34m\u001b[0m\u001b[0;34m\u001b[0m\u001b[0;34m\u001b[0m\u001b[0m\n",
            "\u001b[0;31mKeyboardInterrupt\u001b[0m: "
          ]
        }
      ],
      "source": [
        "import zipfile\n",
        "from google.colab import drive\n",
        "drive.mount(\"/content/drive/\", force_remount=True)\n",
        "\n",
        "#!cp  /content/drive/My\\ Drive/kitti/\"$dataset\".zip /tmp\n",
        "#!cp /content/drive/MyDrive/brighton/brightonImages.zip /tmp\n",
        "#!cp /content/drive/MyDrive/louvre/louvreImages.zip /tmp\n",
        "!cp /content/drive/MyDrive/COMP0132/{dataset}/{zipfile}.zip /tmp\n",
        "# !tar -xvf  '/tmp/dataset-outdoors2_1024_16.tar' -C '/tmp/tum_vi/'\n",
        "# !tar -xvf  '/content/drive/My Drive/tum_vi/dataset-outdoors2_1024_16.tar' -C '/tmp'\n",
        "\n",
        "\n",
        "\n"
      ]
    },
    {
      "cell_type": "code",
      "execution_count": null,
      "metadata": {
        "id": "9Qh6yAmALeFJ"
      },
      "outputs": [],
      "source": [
        "#!unzip '/tmp/{dataset}.zip' -d '/tmp/'\n",
        "#!unzip \"/content/drive/MyDrive/brighton/brightonImages.zip\" -d \"/tmp\"\n",
        "!unzip \"/content/drive/MyDrive/COMP0132/{dataset}/{zipfile}.zip\" -d \"/tmp\""
      ]
    },
    {
      "cell_type": "markdown",
      "metadata": {
        "id": "aUbVoHScTJYe"
      },
      "source": [
        "## What's next\n",
        "\n",
        "* Learn about [Cloud TPUs](https://cloud.google.com/tpu/docs) that Google designed and optimized specifically to speed up and scale up ML workloads for training and inference and to enable ML engineers and researchers to iterate more quickly.\n",
        "* Explore the range of [Cloud TPU tutorials and Colabs](https://cloud.google.com/tpu/docs/tutorials) to find other examples that can be used when implementing your ML project.\n",
        "* For more information on running the DeepLab model on Cloud TPUs, see the [DeepLab tutorial](https://cloud.google.com/tpu/docs/tutorials/deeplab).\n"
      ]
    },
    {
      "cell_type": "code",
      "execution_count": null,
      "metadata": {
        "id": "5rU8wjTG1250"
      },
      "outputs": [],
      "source": [
        "def convert(img, target_type_min, target_type_max, target_type):\n",
        "  imin = img.min()\n",
        "  imax = img.max()\n",
        "\n",
        "  a = (target_type_max - target_type_min) / (imax - imin)\n",
        "  b = target_type_max - a * imax\n",
        "  new_img = (a * img + b).astype(target_type)\n",
        "  return new_img\n"
      ]
    },
    {
      "cell_type": "code",
      "execution_count": null,
      "metadata": {
        "id": "O5o3tepwHHAA"
      },
      "outputs": [],
      "source": [
        "import glob\n",
        "\n",
        "import cv2\n",
        "import natsort\n",
        "# def run_visualization_repeative():\n",
        "# # def run_visualization(url):\n",
        "#   \"\"\"Inferences DeepLab model and visualizes result.\"\"\"\n",
        "#   try:\n",
        "#     # f = urllib.request.urlopen(url)\n",
        "#     # jpeg_str = f.read()\n",
        "#     # original_im = Image.open(BytesIO(jpeg_str))\n",
        "#     # original_im=Image.open('/content/drive/MyDrive/experiment_mono/1520430162157909301_undistort.png')\n",
        "#     original_im=Image.open('/content/drive/MyDrive/experiment_mono/1520430162157909301.png')\n",
        "#     # original_im = Image.open('/home/ziwen/Downloads/DeeplabV3/expriment_mono/1520430162157909301.png')\n",
        "#     pix = np.array(original_im)\n",
        "#     imgu8 = convert(pix, 0, 255, np.uint8)\n",
        "#     undistorted = cv2.remap(imgu8, mapx, mapy, cv2.INTER_LINEAR)\n",
        "#     plt.imshow(original_im)\n",
        "#     # pix = np.array(original_im)\n",
        "#     # plt.imshow(pix)\n",
        "#     # pix = np.array(original_im)\n",
        "\n",
        "#     plt.imshow(undistorted)\n",
        "#     original_im=undistorted\n",
        "\n",
        "    # color_coverted = cv2.cvtColor(original_im, cv2.COLOR_BGR2RGB)\n",
        "    # original_im=Image.fromarray(color_coverted)\n",
        "#     # imgu8 = convert(pix, 0, 255, np.uint8)\n",
        "#     # original_im = Image.fromarray(imgu8)\n",
        "#   except IOError:\n",
        "#     # print('Cannot retrieve image. Please check url: ' + url)\n",
        "#     return\n",
        "\n",
        "#   # print('running deeplab on image %s...' % url)\n",
        "#   resized_im, seg_map = MODEL.run(original_im)\n",
        "\n",
        "#   # np.savetxt(fname=\"saved-rain-fall-row-col-names.csv\", delimiter=\",\", X=seg_map)\n",
        "#   # files.download(\"saved-rain-fall-row-col-names.csv\");\n",
        "#   # Image.fromarray(seg_map)\n",
        "#   # seg_im=seg_map.save('result.png')\n",
        "#   # seg_im.download('result.png')\n",
        "#   vis_segmentation(resized_im, seg_map)\n",
        "#   pix = np.array(original_im)\n",
        "#   plt.imshow(original_im)\n",
        "\n",
        "\n",
        "\n",
        "# # image_url = IMAGE_URL or _SAMPLE_URL % SAMPLE_IMAGE\n",
        "# run_visualization_repeative()\n",
        "# # run_visualization(image_url)\n",
        "\n",
        "\n",
        "# imageset=glob.glob(\"/content/drive/MyDrive/tum_vi/data/*.png\")\n",
        "# original_im = Image.open('//tmp/00/image_0/000321.png')\n",
        "# imageset=glob.glob(\"/tmp/00/image_0/*.png\")\n",
        "##imageset=glob.glob(\"/tmp/\"+dataset+\"/image_0/*.png\")\n",
        "imageset=glob.glob(\"/content/drive/MyDrive/COMP0132/\"+dataset+\"/images/*.png\")\n",
        "#imageset_sorted = sorted(imageset)\n",
        "imageset_sorted = natsort.natsorted(imageset) #sort images without zero padding in name\n",
        "image_count = len(imageset_sorted) #decreasing\n",
        "image_counter = 0                  #increasing\n",
        "############\"$dataset\"\n",
        "# !mkdir /tmp/00/segmentation\n",
        "# !mkdir /content/drive/MyDrive/\"$dataset\"/segmentation\n",
        "\n",
        "import matplotlib.image as mpimg\n",
        "\n",
        "for img in imageset_sorted:\n",
        "    cv_img = cv2.imread(img)\n",
        "    imgu8 = convert(cv_img, 0, 255, np.uint8)\n",
        "    \n",
        "    # try:\n",
        "    # f = urllib.request.urlopen(url)\n",
        "    # jpeg_str = f.read()\n",
        "    # original_im = Image.open(BytesIO(jpeg_str))\n",
        "    # original_im=Image.open('/content/drive/MyDrive/experiment_mono/1520430162157909301_undistort.png')\n",
        "    # original_im=Image.open('/content/drive/MyDrive/experiment_mono/1520430162157909301.png')\n",
        "    # original_im=Image.open('/tmp/dataset-outdoors2_1024_16/mav0/cam0/data/1520430162157909301.png')\n",
        "\n",
        "    # original_im = Image.open('/home/ziwen/Downloads/DeeplabV3/expriment_mono/1520430162157909301.png')\n",
        "    # pix = np.array(original_im)\n",
        "    # imgu8 = convert(pix, 0, 255, np.uint8)\n",
        "    # undistorted = cv2.remap(imgu8, mapx, mapy, cv2.INTER_LINEAR)\n",
        "    # plt.imshow(original_im)\n",
        "    # pix = np.array(original_im)\n",
        "    # plt.imshow(pix)\n",
        "    # pix = np.array(original_im)\n",
        "\n",
        "    # plt.imshow(undistorted)\n",
        "    # original_im=undistorted\n",
        "\n",
        "    # color_coverted = cv2.cvtColor(original_im, cv2.COLOR_BGR2RGB)\n",
        "    # original_im=Image.fromarray(color_coverted)\n",
        "    # imgu8 = convert(pix, 0, 255, np.uint8)\n",
        "    original_im = Image.fromarray(imgu8, \"RGB\")\n",
        "    \n",
        "    # except IOError:\n",
        "    # # print('Cannot retrieve image. Please check url: ' + url)\n",
        "    #   return\n",
        "\n",
        "    print('running deeplab on image ...' )\n",
        "    resized_im, seg_map = MODEL.run(original_im)\n",
        "    # print(seg_map.dtype)\n",
        "    #seg_img_int8 = (seg_map * 255).astype(np.uint8)\n",
        "    seg_img_int8 = np.uint8(seg_map)\n",
        "    seg_im = Image.fromarray(seg_img_int8)\n",
        "    print(os.path.basename(img))\n",
        "    # vis_segmentation(resized_im, seg_map)\n",
        "    # tmp/dataset-outdoors2_1024_16/mav0/cam0/data/\n",
        "    \n",
        "\n",
        "    # seg_im.save(('/tmp/'+dataset+'/segmentation/'+os.path.basename(img)),\"PNG\") try this\n",
        "    ######################seg_im.save(\"/content/drive/MyDrive/\" + dataset + \"/segmentation_video/\" + str(1099-image_count),\"PNG\")\n",
        "    vis_segmentation(cv_img, seg_map, image_counter)#####################################################\n",
        "    # try and get the original image displayed, not 8 bit version\n",
        "    \n",
        "    # seg_im.save(('/content/drive/MyDrive/tum_vi/segmentation/'+os.path.basename(img)),\"PNG\")\n",
        "\n",
        "    # cv2.imwrite((\"/content/drive/MyDrive/tum_vi/segmentation/\"+os.path.basename(img)), imgu8)\n",
        "    image_count = image_count - 1 \n",
        "    image_counter = image_counter + 1\n",
        "    # print((\"./int8_result/\"+os.path.basename(img)))\n",
        "    print(\"{} {}\".format(image_count, \"images left\"))\n",
        "\n",
        "\n",
        "\n",
        "\n"
      ]
    },
    {
      "cell_type": "code",
      "execution_count": null,
      "metadata": {
        "id": "ke1SLIhjddK8"
      },
      "outputs": [],
      "source": [
        "!zip -r /content/drive/MyDrive/COMP0132/{dataset}/segmentation_{dataset}.zip /content/drive/MyDrive/COMP0132/{dataset}/segmentation/\n",
        "\n"
      ]
    },
    {
      "cell_type": "code",
      "execution_count": null,
      "metadata": {
        "id": "StQEojItdkmS"
      },
      "outputs": [],
      "source": [
        "!cp /tmp/segmentation_{dataset}.zip /content/drive/My\\ Drive/kitti/"
      ]
    },
    {
      "cell_type": "code",
      "execution_count": null,
      "metadata": {
        "id": "uAmMCeqtklyR"
      },
      "outputs": [],
      "source": [
        "# cp # some directory?\n",
        "# order the images-- hopefully ordered thanks to zero padding \n",
        "# !ffmpeg -framerate 5 -i semantic_segmentation%05d.png segmentedOutput.mp4\n",
        "\n"
      ]
    }
  ],
  "metadata": {
    "accelerator": "GPU",
    "colab": {
      "collapsed_sections": [],
      "name": "Copy of W1 SImplified Kitti  Distorted(RAW) of Local Zip of DeepLab Demo.ipynb",
      "provenance": [],
      "include_colab_link": true
    },
    "gpuClass": "standard",
    "kernelspec": {
      "display_name": "Python 3",
      "name": "python3"
    }
  },
  "nbformat": 4,
  "nbformat_minor": 0
}